{
  "nbformat": 4,
  "nbformat_minor": 0,
  "metadata": {
    "colab": {
      "provenance": [],
      "authorship_tag": "ABX9TyMGvxjiSQK0QFDeaBVQ2tfC",
      "include_colab_link": true
    },
    "kernelspec": {
      "name": "python3",
      "display_name": "Python 3"
    },
    "language_info": {
      "name": "python"
    }
  },
  "cells": [
    {
      "cell_type": "markdown",
      "metadata": {
        "id": "view-in-github",
        "colab_type": "text"
      },
      "source": [
        "<a href=\"https://colab.research.google.com/github/Maurickson/ProjetoGit/blob/main/PROJETO-UNIFACISA-ADS_Aula01.ipynb\" target=\"_parent\"><img src=\"https://colab.research.google.com/assets/colab-badge.svg\" alt=\"Open In Colab\"/></a>"
      ]
    },
    {
      "cell_type": "code",
      "execution_count": null,
      "metadata": {
        "id": "-r3f88dhUsXQ"
      },
      "outputs": [],
      "source": []
    },
    {
      "cell_type": "markdown",
      "source": [
        "UNIFACISA - ADS\n",
        "Aluno: Maurickson Xavier Braga - Data: 20/02/2024"
      ],
      "metadata": {
        "id": "39E3S0NxVEF4"
      }
    },
    {
      "cell_type": "code",
      "source": [
        "a = 100\n",
        "b = 350\n",
        "c = (a * b)\n",
        "\n",
        "print(\"Primeiro valor\", a)\n",
        "print(\"Segundo valor\", b)\n",
        "print(\"Multiplicador\", c)"
      ],
      "metadata": {
        "colab": {
          "base_uri": "https://localhost:8080/"
        },
        "id": "cfDGtNDvVXWS",
        "outputId": "104c6653-2d40-4eeb-a0bb-1df9716aca5d"
      },
      "execution_count": 1,
      "outputs": [
        {
          "output_type": "stream",
          "name": "stdout",
          "text": [
            "Primeiro valor 100\n",
            "Segundo valor 350\n",
            "Multiplicador 35000\n"
          ]
        }
      ]
    },
    {
      "cell_type": "code",
      "source": [],
      "metadata": {
        "id": "8D83LGqtWKqM"
      },
      "execution_count": null,
      "outputs": []
    }
  ]
}